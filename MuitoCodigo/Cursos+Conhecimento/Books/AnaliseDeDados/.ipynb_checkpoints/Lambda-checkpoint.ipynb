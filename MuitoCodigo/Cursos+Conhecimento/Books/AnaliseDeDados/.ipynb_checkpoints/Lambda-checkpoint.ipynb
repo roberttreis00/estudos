{
 "cells": [
  {
   "cell_type": "code",
   "execution_count": 2,
   "id": "00ca8cdc-037b-40e0-925a-e32abe4ff6cb",
   "metadata": {},
   "outputs": [
    {
     "data": {
      "text/plain": [
       "[8, 0, 2, 10, 12]"
      ]
     },
     "execution_count": 2,
     "metadata": {},
     "output_type": "execute_result"
    }
   ],
   "source": [
    "def apply_to_list(some_list, f):\n",
    "    return [f(x) for x in some_list]\n",
    "\n",
    "ints = [4, 0, 1, 5, 6]\n",
    "apply_to_list(ints, lambda x: x * 2)\n"
   ]
  },
  {
   "cell_type": "code",
   "execution_count": 46,
   "id": "c7748307-0391-444c-8bab-61ec2e5782b8",
   "metadata": {},
   "outputs": [
    {
     "name": "stdout",
     "output_type": "stream",
     "text": [
      "[68, 17, 26, 21, 25, 26, 87, 76, 77, 8, 16, 41, 72, 32, 79, 22, 79, 40, 25, 56, 70, 34, 49, 25, 37, 55, 92, 99, 91, 17, 93, 67, 80, 46, 62, 30, 25, 23, 44, 79, 86, 23, 37, 90, 57, 15, 82, 27, 11, 72]\n",
      "[70, 19, 28, 23, 27, 28, 89, 78, 79, 10, 18, 43, 74, 34, 81, 24, 81, 42, 27, 58, 72, 36, 51, 27, 39, 57, 94, 101, 93, 19, 95, 69, 82, 48, 64, 32, 27, 25, 46, 81, 88, 25, 39, 92, 59, 17, 84, 29, 13, 74]\n"
     ]
    }
   ],
   "source": [
    "#Filtrar quem é nº par e nº impar/ Cálculo de Quadrados\n",
    "import numpy as np\n",
    "\n",
    "numeros = [np.random.randint(0, 100) for x in range(0, 50)]\n",
    "elevar = lambda x: x + 2\n",
    "\n",
    "print(numeros)\n",
    "print([elevar(x) for x in numeros])\n"
   ]
  },
  {
   "cell_type": "code",
   "execution_count": null,
   "id": "e8c6257e-a400-48f0-a3c1-9c0b2cfda6ab",
   "metadata": {},
   "outputs": [],
   "source": []
  }
 ],
 "metadata": {
  "kernelspec": {
   "display_name": "Python [conda env:base] *",
   "language": "python",
   "name": "conda-base-py"
  },
  "language_info": {
   "codemirror_mode": {
    "name": "ipython",
    "version": 3
   },
   "file_extension": ".py",
   "mimetype": "text/x-python",
   "name": "python",
   "nbconvert_exporter": "python",
   "pygments_lexer": "ipython3",
   "version": "3.12.7"
  }
 },
 "nbformat": 4,
 "nbformat_minor": 5
}
