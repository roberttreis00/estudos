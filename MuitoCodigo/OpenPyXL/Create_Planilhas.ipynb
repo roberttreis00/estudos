{
 "cells": [
  {
   "cell_type": "code",
   "execution_count": 4,
   "id": "db664b49-5027-40e0-914e-1b399f729fed",
   "metadata": {},
   "outputs": [
    {
     "name": "stdout",
     "output_type": "stream",
     "text": [
      "Workbook savo teste.xlsx.\n"
     ]
    }
   ],
   "source": [
    "from openpyxl import Workbook\n",
    "\n",
    "wb = Workbook()  #  Criando a pasta de trabalho\n",
    "\n",
    "sheet = wb.active\n",
    "\n",
    "sheet['A1'] = 'Compras'\n",
    "sheet['A2'] = 'Banana'\n",
    "sheet['a3'] = 'Cebola'  # a letra não importa se sao maiusculas ou minusculas\n",
    "\n",
    "nome_arquivo = 'teste.xlsx'\n",
    "\n",
    "wb.save(nome_arquivo)\n",
    "\n",
    "print(f\"Workbook savo {nome_arquivo}.\")\n"
   ]
  },
  {
   "cell_type": "code",
   "execution_count": null,
   "id": "d99a37ce-7aad-488c-bb2d-ce885270d7a2",
   "metadata": {},
   "outputs": [],
   "source": []
  }
 ],
 "metadata": {
  "kernelspec": {
   "display_name": "Python [conda env:base] *",
   "language": "python",
   "name": "conda-base-py"
  },
  "language_info": {
   "codemirror_mode": {
    "name": "ipython",
    "version": 3
   },
   "file_extension": ".py",
   "mimetype": "text/x-python",
   "name": "python",
   "nbconvert_exporter": "python",
   "pygments_lexer": "ipython3",
   "version": "3.12.7"
  }
 },
 "nbformat": 4,
 "nbformat_minor": 5
}
