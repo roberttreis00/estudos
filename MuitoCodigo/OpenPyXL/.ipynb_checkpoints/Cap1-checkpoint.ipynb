{
 "cells": [
  {
   "cell_type": "code",
   "execution_count": 26,
   "id": "c8fc6526-7012-4f21-8083-75574a677ca3",
   "metadata": {},
   "outputs": [],
   "source": [
    "import openpyxl\n",
    "\n",
    "wb = openpyxl.Workbook()  # Criar um novo workbook\n",
    "\n",
    "wb = openpyxl.load_workbook('teste.xlsx')  # Carregar uma planilha \n",
    "\n",
    "sheet = wb.create_sheet(\"mercado\", 0)  # cria uma nova planilha e nomeia, e defini o index\n",
    "\n",
    "wb.save('testes1.xlsx')"
   ]
  }
 ],
 "metadata": {
  "kernelspec": {
   "display_name": "Python [conda env:base] *",
   "language": "python",
   "name": "conda-base-py"
  },
  "language_info": {
   "codemirror_mode": {
    "name": "ipython",
    "version": 3
   },
   "file_extension": ".py",
   "mimetype": "text/x-python",
   "name": "python",
   "nbconvert_exporter": "python",
   "pygments_lexer": "ipython3",
   "version": "3.12.7"
  }
 },
 "nbformat": 4,
 "nbformat_minor": 5
}
